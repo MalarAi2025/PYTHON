{
 "cells": [
  {
   "cell_type": "markdown",
   "id": "6c072391-9ed5-46d4-998b-446dafe3110d",
   "metadata": {},
   "source": [
    "# re"
   ]
  },
  {
   "cell_type": "code",
   "execution_count": 1,
   "id": "6c42b65c-5e71-4bc4-a619-93496b7eba25",
   "metadata": {},
   "outputs": [],
   "source": [
    "\n",
    "#create class and function ,and list out the items in the list"
   ]
  },
  {
   "cell_type": "code",
   "execution_count": 45,
   "id": "c3140a47-8c83-429a-ab4c-ec4222809424",
   "metadata": {},
   "outputs": [
    {
     "name": "stdin",
     "output_type": "stream",
     "text": [
      "Sub fields in AI are: a\n"
     ]
    }
   ],
   "source": [
    "SubfieldsInAI=input(\"Sub fields in AI are:\")\n"
   ]
  },
  {
   "cell_type": "code",
   "execution_count": 31,
   "id": "58f6c7fe-926d-48a1-a43b-d48a075e685a",
   "metadata": {},
   "outputs": [
    {
     "name": "stdout",
     "output_type": "stream",
     "text": [
      "Machine learning\n",
      "Neural Networks\n",
      "Vision\n",
      "Robotics\n",
      "Speech Processing\n",
      "Natural Language Processing\n"
     ]
    }
   ],
   "source": [
    "List=[\"Machine learning\",\"Neural Networks\",\"Vision\",\"Robotics\",\"Speech Processing\",\"Natural Language Processing\"]\n",
    "for SubfieldsInAI in List:\n",
    "    print(SubfieldsInAI)"
   ]
  },
  {
   "cell_type": "code",
   "execution_count": 43,
   "id": "0801e34c-6a1c-4a2f-93b5-e764ea677563",
   "metadata": {},
   "outputs": [],
   "source": [
    "#percentage of marks\n",
    "def Percentage():\n",
    "    subject1=int(input(\"Subject1=\"))\n",
    "    subject2=int(input(\"Subject2=\"))\n",
    "    subject3=int(input(\"Subject3=\"))\n",
    "    subject4=int(input(\"Subject4=\"))\n",
    "    subject5=int(input(\"Subject5=\"))\n",
    "    Total=(subject1+subject2+subject3+subject4+subject5)\n",
    "    Percentage=((Total/500)*100)\n",
    "    print(\"Percentage of total marks =\",Percentage)\n",
    "    return Percentage\n",
    "             "
   ]
  },
  {
   "cell_type": "code",
   "execution_count": 44,
   "id": "05041407-b0b3-41db-98cd-0b9c2b063e3d",
   "metadata": {},
   "outputs": [
    {
     "name": "stdout",
     "output_type": "stream",
     "text": [
      "Machine learning\n",
      "Neural Networks\n",
      "Vision\n",
      "Robotics\n",
      "Speech Processing\n",
      "Natural Language Processing\n"
     ]
    },
    {
     "data": {
      "text/plain": [
       "'Natural Language Processing'"
      ]
     },
     "execution_count": 44,
     "metadata": {},
     "output_type": "execute_result"
    }
   ],
   "source": [
    "Subfields()"
   ]
  },
  {
   "cell_type": "code",
   "execution_count": null,
   "id": "316337d1-a5b7-4620-9959-fc4bff99abe9",
   "metadata": {},
   "outputs": [],
   "source": [
    "#create a function that checks whether the given number is odd or even"
   ]
  },
  {
   "cell_type": "code",
   "execution_count": 31,
   "id": "86a67135-f63d-44b9-b958-b483250f95df",
   "metadata": {},
   "outputs": [
    {
     "name": "stdin",
     "output_type": "stream",
     "text": [
      "Enter a number: 52452\n"
     ]
    }
   ],
   "source": [
    "num=input(\"Enter a number:\")\n",
    "    "
   ]
  },
  {
   "cell_type": "code",
   "execution_count": 32,
   "id": "1932e3ba-974e-4030-abdf-d6f171c3f575",
   "metadata": {},
   "outputs": [],
   "source": [
    "def OddEven(num):\n",
    "    OddEven=num%2==0\n",
    "    if(num%2==0):\n",
    "        print(int(num),\"is Even number\")\n",
    "    else:\n",
    "        print(int(num),\"is Odd number\")\n",
    "    return OddEven\n",
    "        \n",
    "        "
   ]
  },
  {
   "cell_type": "code",
   "execution_count": 30,
   "id": "36914c8b-db4a-44a0-af18-7b1b984e874e",
   "metadata": {},
   "outputs": [
    {
     "name": "stdout",
     "output_type": "stream",
     "text": [
      "52452 is Even number\n"
     ]
    },
    {
     "data": {
      "text/plain": [
       "True"
      ]
     },
     "execution_count": 30,
     "metadata": {},
     "output_type": "execute_result"
    }
   ],
   "source": [
    "OddEven(52452)"
   ]
  },
  {
   "cell_type": "code",
   "execution_count": 33,
   "id": "7a073b17-2087-4a0a-8583-944624269a77",
   "metadata": {},
   "outputs": [],
   "source": [
    "#create a function that tells eligibility of marriage for male and female according to their age limit like 21 for male and 18 for female"
   ]
  },
  {
   "cell_type": "code",
   "execution_count": 2,
   "id": "6716e232-ebe1-40b6-a035-11278fe40a41",
   "metadata": {},
   "outputs": [
    {
     "name": "stdin",
     "output_type": "stream",
     "text": [
      "Enter the age= 20\n"
     ]
    },
    {
     "name": "stdout",
     "output_type": "stream",
     "text": [
      "20\n"
     ]
    }
   ],
   "source": [
    "age=int(input(\"Enter the age=\"))\n",
    "print(age)\n",
    "\n"
   ]
  },
  {
   "cell_type": "code",
   "execution_count": 10,
   "id": "7df34c69-8197-4ecc-b085-7800efb461b2",
   "metadata": {},
   "outputs": [
    {
     "name": "stdin",
     "output_type": "stream",
     "text": [
      "Enter the Gender male\n"
     ]
    },
    {
     "name": "stdout",
     "output_type": "stream",
     "text": [
      "male\n"
     ]
    }
   ],
   "source": [
    "gender=(input(\"Enter the Gender\"))\n",
    "print(gender)\n",
    "    "
   ]
  },
  {
   "cell_type": "code",
   "execution_count": 3,
   "id": "7188245a-8fa0-4e0e-8fa2-988b8892376e",
   "metadata": {},
   "outputs": [
    {
     "name": "stdin",
     "output_type": "stream",
     "text": [
      "Enter the age 20\n"
     ]
    },
    {
     "name": "stdout",
     "output_type": "stream",
     "text": [
      "Not Eligible\n"
     ]
    }
   ],
   "source": [
    "maleEligibility=int(input(\"Enter the age\"))\n",
    "age=20\n",
    "if (age>21):\n",
    "    print(\"Eligible for marriage\")\n",
    "else:\n",
    "    print(\"Not Eligible\")\n",
    "    \n"
   ]
  },
  {
   "cell_type": "code",
   "execution_count": 17,
   "id": "30d0e09c-0f1d-4774-a066-407579285e48",
   "metadata": {},
   "outputs": [],
   "source": [
    "             A"
   ]
  },
  {
   "cell_type": "code",
   "execution_count": 18,
   "id": "e9eb9b0e-ae5e-4ab4-8adb-dbdee732855c",
   "metadata": {},
   "outputs": [
    {
     "name": "stdin",
     "output_type": "stream",
     "text": [
      "Enter any no.: 567\n"
     ]
    },
    {
     "name": "stdout",
     "output_type": "stream",
     "text": [
      "567 is Odd number\n"
     ]
    },
    {
     "data": {
      "text/plain": [
       "567"
      ]
     },
     "execution_count": 18,
     "metadata": {},
     "output_type": "execute_result"
    }
   ],
   "source": [
    "multipleFunctions.OddEven()"
   ]
  },
  {
   "cell_type": "code",
   "execution_count": 20,
   "id": "2c3428d5-57c2-4248-b888-d2fb84ba3796",
   "metadata": {},
   "outputs": [
    {
     "name": "stdout",
     "output_type": "stream",
     "text": [
      "Machine learning\n",
      "Neural Networks\n",
      "Vision\n",
      "Robotics\n",
      "Speech Processing\n",
      "Natural Language Processing\n"
     ]
    },
    {
     "data": {
      "text/plain": [
       "'Natural Language Processing'"
      ]
     },
     "execution_count": 20,
     "metadata": {},
     "output_type": "execute_result"
    }
   ],
   "source": [
    "multipleFunctions.Subfields()"
   ]
  },
  {
   "cell_type": "code",
   "execution_count": 83,
   "id": "464e3bda-6de0-4e4b-85db-74febc5c0425",
   "metadata": {},
   "outputs": [],
   "source": [
    "\n",
    "class multipleFunctions():\n",
    "    \n",
    "    def Eligible():\n",
    "        gender=input(\"Enter the gender\")\n",
    "        age=int(input(\"Enter the age\"))\n",
    "        if(gender=='female' and age<18):\n",
    "            print(\"Not Eligible\")\n",
    "            msg='Not Eligible'\n",
    "        elif(gender=='male' and age<21):\n",
    "            print(\"Not Eligible\")\n",
    "            msg=\"Not Eligible\"\n",
    "        else:\n",
    "            print(\"Eligible\")\n",
    "            msg=\"eligible\"\n",
    "            return msg\n",
    "    def AreaOfTriangle():\n",
    "          Height=int(input(\"Height=\"))\n",
    "          Breadth=int(input(\"Breadth=\"))\n",
    "          Area=((Height*Breadth)/2)\n",
    "          print(Area)\n",
    "          AreaOfTriangle=(input(\"Area of Triangle=\"),Area)\n",
    "          return Area\n",
    "    def Percentage():\n",
    "         subject1=int(input(\"Subject1=\"))\n",
    "         subject2=int(input(\"Subject2=\"))\n",
    "         subject3=int(input(\"Subject3=\"))\n",
    "         subject4=int(input(\"Subject4=\"))\n",
    "         subject5=int(input(\"Subject5=\"))\n",
    "         Total=(subject1+subject2+subject3+subject4+subject5)\n",
    "         Percentage=((Total/500)*100)\n",
    "         print(\"Percentage of total marks =\",Percentage)\n",
    "         return Percentage\n",
    "    def OddEven(num):\n",
    "        num=int(input(\"Enter the given number=\"))\n",
    "        if(num%2==0):\n",
    "           print(int(num),\"is Even number\")\n",
    "           message=\"Even number\"\n",
    "        else:\n",
    "          print(int(num),\"is Odd number\")\n",
    "          message=\"Odd Number\"\n",
    "        return message\n",
    "    def Peri():\n",
    "        Height1=int(input(\"Height1=\"))\n",
    "        Height2=int(input(\"Height2=\"))\n",
    "        Breadth1=int(input(\"Breadth1=\"))\n",
    "        Perimeter=(Height1+Height2+Breadth1)\n",
    "        print(Perimeter)\n",
    "        Peri=(input(\"Perimeter of the Triangle=\"),Perimeter)\n",
    "        return Peri\n",
    "    def Subfields():\n",
    "        List=[\"Machine learning\",\"Neural Networks\",\"Vision\",\"Robotics\",\"Speech Processing\",\"Natural Language Processing\"]\n",
    "        for SubfieldsInAI in List:\n",
    "           print(SubfieldsInAI)  \n",
    "        return SubfieldsInAI\n",
    "                \n",
    "        \n",
    "        \n",
    "        \n",
    "    \n",
    "             \n"
   ]
  },
  {
   "cell_type": "code",
   "execution_count": 50,
   "id": "542cd82c-70cb-4b4e-ba6b-3a72fcf5f608",
   "metadata": {},
   "outputs": [
    {
     "name": "stdin",
     "output_type": "stream",
     "text": [
      "Height1= 4\n",
      "Height2= 5\n",
      "Breadth1= 5\n"
     ]
    },
    {
     "name": "stdout",
     "output_type": "stream",
     "text": [
      "14\n"
     ]
    },
    {
     "name": "stdin",
     "output_type": "stream",
     "text": [
      "Perimeter of the Triangle= 14\n"
     ]
    },
    {
     "data": {
      "text/plain": [
       "('14', 14)"
      ]
     },
     "execution_count": 50,
     "metadata": {},
     "output_type": "execute_result"
    }
   ],
   "source": [
    "multipleFunctions.Peri()"
   ]
  },
  {
   "cell_type": "code",
   "execution_count": 57,
   "id": "8ec97b23-3c64-43bb-a7cf-47aeac2f3a9f",
   "metadata": {},
   "outputs": [
    {
     "name": "stdin",
     "output_type": "stream",
     "text": [
      "Height= 4\n",
      "Breadth= 7\n"
     ]
    },
    {
     "name": "stdout",
     "output_type": "stream",
     "text": [
      "14.0\n"
     ]
    },
    {
     "name": "stdin",
     "output_type": "stream",
     "text": [
      "Area of Triangle= 14\n"
     ]
    },
    {
     "data": {
      "text/plain": [
       "14.0"
      ]
     },
     "execution_count": 57,
     "metadata": {},
     "output_type": "execute_result"
    }
   ],
   "source": [
    "multipleFunctions.AreaOfTriangle()"
   ]
  },
  {
   "cell_type": "code",
   "execution_count": 58,
   "id": "1d06f068-bbeb-4268-a13b-594f8eb49d43",
   "metadata": {},
   "outputs": [
    {
     "name": "stdin",
     "output_type": "stream",
     "text": [
      "Subject1= 98\n",
      "Subject2= 98\n",
      "Subject3= 90\n",
      "Subject4= 96\n",
      "Subject5= 94\n"
     ]
    },
    {
     "name": "stdout",
     "output_type": "stream",
     "text": [
      "Percentage of total marks = 95.19999999999999\n"
     ]
    },
    {
     "data": {
      "text/plain": [
       "95.19999999999999"
      ]
     },
     "execution_count": 58,
     "metadata": {},
     "output_type": "execute_result"
    }
   ],
   "source": [
    "multipleFunctions.Percentage()"
   ]
  },
  {
   "cell_type": "code",
   "execution_count": 66,
   "id": "f4570117-0db3-486d-abd4-ca7dfcc91c6b",
   "metadata": {},
   "outputs": [
    {
     "name": "stdout",
     "output_type": "stream",
     "text": [
      "Machine learning\n",
      "Neural Networks\n",
      "Vision\n",
      "Robotics\n",
      "Speech Processing\n",
      "Natural Language Processing\n"
     ]
    },
    {
     "data": {
      "text/plain": [
       "'Natural Language Processing'"
      ]
     },
     "execution_count": 66,
     "metadata": {},
     "output_type": "execute_result"
    }
   ],
   "source": [
    "multipleFunctions.Subfields()"
   ]
  },
  {
   "cell_type": "code",
   "execution_count": 84,
   "id": "e31b4f09-295c-499e-90e9-6d667654f282",
   "metadata": {},
   "outputs": [
    {
     "name": "stdin",
     "output_type": "stream",
     "text": [
      "Enter the given number= 34\n"
     ]
    },
    {
     "name": "stdout",
     "output_type": "stream",
     "text": [
      "34 is Even number\n"
     ]
    },
    {
     "data": {
      "text/plain": [
       "'Even number'"
      ]
     },
     "execution_count": 84,
     "metadata": {},
     "output_type": "execute_result"
    }
   ],
   "source": [
    "multipleFunctions.OddEven(34)"
   ]
  },
  {
   "cell_type": "code",
   "execution_count": null,
   "id": "5e75994f-7bcc-4674-ae65-5a8552d8b8d2",
   "metadata": {},
   "outputs": [],
   "source": []
  }
 ],
 "metadata": {
  "kernelspec": {
   "display_name": "Python 3 (ipykernel)",
   "language": "python",
   "name": "python3"
  },
  "language_info": {
   "codemirror_mode": {
    "name": "ipython",
    "version": 3
   },
   "file_extension": ".py",
   "mimetype": "text/x-python",
   "name": "python",
   "nbconvert_exporter": "python",
   "pygments_lexer": "ipython3",
   "version": "3.12.7"
  }
 },
 "nbformat": 4,
 "nbformat_minor": 5
}
