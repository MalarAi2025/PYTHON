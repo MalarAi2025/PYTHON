{
 "cells": [
  {
   "cell_type": "code",
   "execution_count": 1,
   "id": "ea33c737-8ce8-477e-b753-b2e71f9e5897",
   "metadata": {},
   "outputs": [
    {
     "name": "stdout",
     "output_type": "stream",
     "text": [
      "Welcome to Assignment -1\n"
     ]
    }
   ],
   "source": [
    "print(\"Welcome to Assignment -1\")"
   ]
  },
  {
   "cell_type": "code",
   "execution_count": 1,
   "id": "7051f67c-6514-47f2-8a3b-36d991af4c7d",
   "metadata": {},
   "outputs": [],
   "source": [
    "Number1=10\n",
    "Number2=30\n",
    "Add=Number1+Number2"
   ]
  },
  {
   "cell_type": "code",
   "execution_count": 4,
   "id": "8d4e6835-0770-4903-aa2e-494c2d62c946",
   "metadata": {},
   "outputs": [
    {
     "name": "stdout",
     "output_type": "stream",
     "text": [
      "Number1= 10\n",
      "Number2= 30\n",
      "Add= 40\n"
     ]
    }
   ],
   "source": [
    "print(\"Number1=\",10)\n",
    "print(\"Number2=\",30)\n",
    "print(\"Add=\",40)\n",
    "      "
   ]
  },
  {
   "cell_type": "code",
   "execution_count": 6,
   "id": "57619b5d-3299-434f-bcc7-ef71aafb2854",
   "metadata": {},
   "outputs": [
    {
     "name": "stdin",
     "output_type": "stream",
     "text": [
      "Enter the BMI Index 34\n"
     ]
    }
   ],
   "source": [
    "#Body Mass Index\n",
    "BMI=int(input(\"Enter the BMI Index\"))\n",
    "            \n"
   ]
  },
  {
   "cell_type": "code",
   "execution_count": 7,
   "id": "a2e8e0cb-9738-4fc8-9de7-2d38adb7cbb8",
   "metadata": {},
   "outputs": [
    {
     "name": "stdout",
     "output_type": "stream",
     "text": [
      "Overweight\n"
     ]
    }
   ],
   "source": [
    "if(BMI==34):\n",
    "    print(\"Overweight\")"
   ]
  },
  {
   "cell_type": "code",
   "execution_count": null,
   "id": "0cf7eb7f-99fb-4ce5-bf80-2e2d28fcf335",
   "metadata": {},
   "outputs": [],
   "source": []
  }
 ],
 "metadata": {
  "kernelspec": {
   "display_name": "Python 3 (ipykernel)",
   "language": "python",
   "name": "python3"
  },
  "language_info": {
   "codemirror_mode": {
    "name": "ipython",
    "version": 3
   },
   "file_extension": ".py",
   "mimetype": "text/x-python",
   "name": "python",
   "nbconvert_exporter": "python",
   "pygments_lexer": "ipython3",
   "version": "3.12.7"
  }
 },
 "nbformat": 4,
 "nbformat_minor": 5
}
