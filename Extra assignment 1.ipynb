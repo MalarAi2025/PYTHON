{
 "cells": [
  {
   "cell_type": "code",
   "execution_count": 1,
   "id": "ee4c1139-3ca3-4f60-a629-07be65f87807",
   "metadata": {},
   "outputs": [
    {
     "name": "stdout",
     "output_type": "stream",
     "text": [
      "HOPE AI\n"
     ]
    }
   ],
   "source": [
    "#print statement\n",
    "print(\"HOPE AI\")"
   ]
  },
  {
   "cell_type": "code",
   "execution_count": 2,
   "id": "f9677122-be4e-4a3e-951a-df6e4ac05494",
   "metadata": {},
   "outputs": [
    {
     "name": "stdin",
     "output_type": "stream",
     "text": [
      "Enter your institute name HOPE AI\n"
     ]
    }
   ],
   "source": [
    "#Buy Input\n",
    "Institution=input(\"Enter your institute name\")"
   ]
  },
  {
   "cell_type": "code",
   "execution_count": 3,
   "id": "8c6ebfe6-3652-4c0c-9068-356402722f6c",
   "metadata": {},
   "outputs": [
    {
     "name": "stdin",
     "output_type": "stream",
     "text": [
      "Enter your name Malar\n",
      "Enter your age 53\n",
      "Enter your school name Saraswathi \n",
      "Enter your degree BSc\n"
     ]
    }
   ],
   "source": [
    "#Buy inputs\n",
    "name=input(\"Enter your name\")\n",
    "age=int(input(\"Enter your age\"))\n",
    "school=input(\"Enter your school name\")\n",
    "degree=input(\"Enter your degree\")"
   ]
  },
  {
   "cell_type": "code",
   "execution_count": 7,
   "id": "0717a51e-ae30-494e-85b6-57f39129bf63",
   "metadata": {},
   "outputs": [
    {
     "name": "stdout",
     "output_type": "stream",
     "text": [
      "a= 43\n",
      "b= 34\n",
      "add= 77\n"
     ]
    }
   ],
   "source": [
    "#Addition\n",
    "a=43\n",
    "print(\"a=\",43)\n",
    "b=34\n",
    "print(\"b=\",34)\n",
    "add=a+b\n",
    "print(\"add=\",77)"
   ]
  },
  {
   "cell_type": "code",
   "execution_count": 13,
   "id": "f46a7a41-84e7-4807-ad98-5fa19ade5322",
   "metadata": {},
   "outputs": [
    {
     "name": "stdout",
     "output_type": "stream",
     "text": [
      "9\n",
      "Sub= 9\n"
     ]
    }
   ],
   "source": [
    "#subtraction\n",
    "Sub=print(a-b)\n",
    "print(\"Sub=\",9)\n"
   ]
  },
  {
   "cell_type": "code",
   "execution_count": 14,
   "id": "0f3ebc98-ed41-477b-b881-f5485ead15b8",
   "metadata": {},
   "outputs": [
    {
     "name": "stdout",
     "output_type": "stream",
     "text": [
      "a= 63\n",
      "b= 97\n",
      "mul= 6111\n"
     ]
    }
   ],
   "source": [
    "#Division\n",
    "a=63\n",
    "b=97\n",
    "mul=a*b\n",
    "print(\"a=\",63)\n",
    "print(\"b=\",97)\n",
    "print(\"mul=\",6111)\n"
   ]
  },
  {
   "cell_type": "code",
   "execution_count": 15,
   "id": "ef50ca26-d1da-4a60-88d1-e1e7c18b8f51",
   "metadata": {},
   "outputs": [
    {
     "name": "stdout",
     "output_type": "stream",
     "text": [
      "a= 76\n",
      "b= 31\n",
      "Float division= 2.456129032258065\n"
     ]
    }
   ],
   "source": [
    "#Division\n",
    "a=76\n",
    "b=31\n",
    "floatdivision=a/b\n",
    "print(\"a=\",76)\n",
    "print(\"b=\",31)\n",
    "print(\"Float division=\",2.456129032258065)\n",
    "\n",
    "\n",
    "      \n"
   ]
  },
  {
   "cell_type": "code",
   "execution_count": null,
   "id": "5b231118-3723-48b5-8a1f-ca9d15815989",
   "metadata": {},
   "outputs": [],
   "source": [
    "#Floor division\n"
   ]
  },
  {
   "cell_type": "code",
   "execution_count": 16,
   "id": "f275b905-853e-4362-b5d3-01bbcc4c6382",
   "metadata": {},
   "outputs": [
    {
     "name": "stdout",
     "output_type": "stream",
     "text": [
      "a= 76\n",
      "b= 31\n",
      "Floor Div= 2\n"
     ]
    }
   ],
   "source": [
    "#Division\n",
    "a=76\n",
    "b=31\n",
    "floordivision=a//b\n",
    "print(\"a=\",76)\n",
    "print(\"b=\",31)\n",
    "print(\"Floor Div=\",2)\n",
    "\n",
    "\n",
    "      \n"
   ]
  },
  {
   "cell_type": "code",
   "execution_count": 17,
   "id": "9381fb01-252c-407f-8b18-080da3f632b7",
   "metadata": {},
   "outputs": [
    {
     "name": "stdout",
     "output_type": "stream",
     "text": [
      "a= 76\n",
      "b= 31\n",
      "Modulo= 14\n"
     ]
    }
   ],
   "source": [
    "#Modulo\n",
    "a=76\n",
    "b=31\n",
    "modulo=76%31\n",
    "print(\"a=\",76)\n",
    "print(\"b=\",31)\n",
    "print(\"Modulo=\",14)"
   ]
  },
  {
   "cell_type": "code",
   "execution_count": 18,
   "id": "b57fb88c-aee9-4f25-9e01-10bed3f3bf58",
   "metadata": {},
   "outputs": [
    {
     "name": "stdout",
     "output_type": "stream",
     "text": [
      "a= 4\n",
      "b= 4\n",
      "power= 256\n"
     ]
    }
   ],
   "source": [
    "#Power\n",
    "a=4\n",
    "b=4\n",
    "power=4**4\n",
    "print(\"a=\",4)\n",
    "print(\"b=\",4)\n",
    "print(\"power=\",256)\n"
   ]
  },
  {
   "cell_type": "code",
   "execution_count": null,
   "id": "96349200-b5ac-4bde-9773-c80609aca0fb",
   "metadata": {},
   "outputs": [],
   "source": []
  }
 ],
 "metadata": {
  "kernelspec": {
   "display_name": "Python 3 (ipykernel)",
   "language": "python",
   "name": "python3"
  },
  "language_info": {
   "codemirror_mode": {
    "name": "ipython",
    "version": 3
   },
   "file_extension": ".py",
   "mimetype": "text/x-python",
   "name": "python",
   "nbconvert_exporter": "python",
   "pygments_lexer": "ipython3",
   "version": "3.12.7"
  }
 },
 "nbformat": 4,
 "nbformat_minor": 5
}
