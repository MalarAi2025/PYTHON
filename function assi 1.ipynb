{
 "cells": [
  {
   "cell_type": "code",
   "execution_count": 1,
   "id": "6c42b65c-5e71-4bc4-a619-93496b7eba25",
   "metadata": {},
   "outputs": [],
   "source": [
    "\n",
    "#create class and function ,and list out the items in the list"
   ]
  },
  {
   "cell_type": "code",
   "execution_count": 45,
   "id": "c3140a47-8c83-429a-ab4c-ec4222809424",
   "metadata": {},
   "outputs": [
    {
     "name": "stdin",
     "output_type": "stream",
     "text": [
      "Sub fields in AI are: a\n"
     ]
    }
   ],
   "source": [
    "SubfieldsInAI=input(\"Sub fields in AI are:\")\n"
   ]
  },
  {
   "cell_type": "code",
   "execution_count": 31,
   "id": "58f6c7fe-926d-48a1-a43b-d48a075e685a",
   "metadata": {},
   "outputs": [
    {
     "name": "stdout",
     "output_type": "stream",
     "text": [
      "Machine learning\n",
      "Neural Networks\n",
      "Vision\n",
      "Robotics\n",
      "Speech Processing\n",
      "Natural Language Processing\n"
     ]
    }
   ],
   "source": [
    "List=[\"Machine learning\",\"Neural Networks\",\"Vision\",\"Robotics\",\"Speech Processing\",\"Natural Language Processing\"]\n",
    "for SubfieldsInAI in List:\n",
    "    print(SubfieldsInAI)"
   ]
  },
  {
   "cell_type": "code",
   "execution_count": 43,
   "id": "0801e34c-6a1c-4a2f-93b5-e764ea677563",
   "metadata": {},
   "outputs": [],
   "source": [
    "def Subfields():\n",
    "    List=[\"Machine learning\",\"Neural Networks\",\"Vision\",\"Robotics\",\"Speech Processing\",\"Natural Language Processing\"]\n",
    "    for SubfieldsInAI in List:\n",
    "        print(SubfieldsInAI)  \n",
    "    return SubfieldsInAI\n",
    "                "
   ]
  },
  {
   "cell_type": "code",
   "execution_count": 44,
   "id": "05041407-b0b3-41db-98cd-0b9c2b063e3d",
   "metadata": {},
   "outputs": [
    {
     "name": "stdout",
     "output_type": "stream",
     "text": [
      "Machine learning\n",
      "Neural Networks\n",
      "Vision\n",
      "Robotics\n",
      "Speech Processing\n",
      "Natural Language Processing\n"
     ]
    },
    {
     "data": {
      "text/plain": [
       "'Natural Language Processing'"
      ]
     },
     "execution_count": 44,
     "metadata": {},
     "output_type": "execute_result"
    }
   ],
   "source": [
    "Subfields()"
   ]
  },
  {
   "cell_type": "code",
   "execution_count": null,
   "id": "316337d1-a5b7-4620-9959-fc4bff99abe9",
   "metadata": {},
   "outputs": [],
   "source": [
    "#create a function that checks whether the given number is odd or even"
   ]
  },
  {
   "cell_type": "code",
   "execution_count": 31,
   "id": "86a67135-f63d-44b9-b958-b483250f95df",
   "metadata": {},
   "outputs": [
    {
     "name": "stdin",
     "output_type": "stream",
     "text": [
      "Enter a number: 52452\n"
     ]
    }
   ],
   "source": [
    "num=input(\"Enter a number:\")\n",
    "    "
   ]
  },
  {
   "cell_type": "code",
   "execution_count": 32,
   "id": "1932e3ba-974e-4030-abdf-d6f171c3f575",
   "metadata": {},
   "outputs": [],
   "source": [
    "def OddEven(num):\n",
    "    OddEven=num%2==0\n",
    "    if(num%2==0):\n",
    "        print(int(num),\"is Even number\")\n",
    "    else:\n",
    "        print(int(num),\"is Odd number\")\n",
    "    return OddEven\n",
    "        \n",
    "        "
   ]
  },
  {
   "cell_type": "code",
   "execution_count": 30,
   "id": "36914c8b-db4a-44a0-af18-7b1b984e874e",
   "metadata": {},
   "outputs": [
    {
     "name": "stdout",
     "output_type": "stream",
     "text": [
      "52452 is Even number\n"
     ]
    },
    {
     "data": {
      "text/plain": [
       "True"
      ]
     },
     "execution_count": 30,
     "metadata": {},
     "output_type": "execute_result"
    }
   ],
   "source": [
    "OddEven(52452)"
   ]
  },
  {
   "cell_type": "code",
   "execution_count": 33,
   "id": "7a073b17-2087-4a0a-8583-944624269a77",
   "metadata": {},
   "outputs": [],
   "source": [
    "#create a function that tells eligibility of marriage for male and female according to their age limit like 21 for male and 18 for female"
   ]
  },
  {
   "cell_type": "code",
   "execution_count": 2,
   "id": "6716e232-ebe1-40b6-a035-11278fe40a41",
   "metadata": {},
   "outputs": [
    {
     "name": "stdin",
     "output_type": "stream",
     "text": [
      "Enter the age= 20\n"
     ]
    },
    {
     "name": "stdout",
     "output_type": "stream",
     "text": [
      "20\n"
     ]
    }
   ],
   "source": [
    "age=int(input(\"Enter the age=\"))\n",
    "print(age)\n",
    "\n"
   ]
  },
  {
   "cell_type": "code",
   "execution_count": 10,
   "id": "7df34c69-8197-4ecc-b085-7800efb461b2",
   "metadata": {},
   "outputs": [
    {
     "name": "stdin",
     "output_type": "stream",
     "text": [
      "Enter the Gender male\n"
     ]
    },
    {
     "name": "stdout",
     "output_type": "stream",
     "text": [
      "male\n"
     ]
    }
   ],
   "source": [
    "gender=(input(\"Enter the Gender\"))\n",
    "print(gender)\n",
    "    "
   ]
  },
  {
   "cell_type": "code",
   "execution_count": 3,
   "id": "7188245a-8fa0-4e0e-8fa2-988b8892376e",
   "metadata": {},
   "outputs": [
    {
     "name": "stdin",
     "output_type": "stream",
     "text": [
      "Enter the age 20\n"
     ]
    },
    {
     "name": "stdout",
     "output_type": "stream",
     "text": [
      "Not Eligible\n"
     ]
    }
   ],
   "source": [
    "maleEligibility=int(input(\"Enter the age\"))\n",
    "age=20\n",
    "if (age>21):\n",
    "    print(\"Eligible for marriage\")\n",
    "else:\n",
    "    print(\"Not Eligible\")\n",
    "    \n"
   ]
  },
  {
   "cell_type": "code",
   "execution_count": null,
   "id": "b4e19656-6e91-47e6-b8f0-49a7f6b5a7f9",
   "metadata": {},
   "outputs": [],
   "source": []
  }
 ],
 "metadata": {
  "kernelspec": {
   "display_name": "Python 3 (ipykernel)",
   "language": "python",
   "name": "python3"
  },
  "language_info": {
   "codemirror_mode": {
    "name": "ipython",
    "version": 3
   },
   "file_extension": ".py",
   "mimetype": "text/x-python",
   "name": "python",
   "nbconvert_exporter": "python",
   "pygments_lexer": "ipython3",
   "version": "3.12.7"
  }
 },
 "nbformat": 4,
 "nbformat_minor": 5
}
