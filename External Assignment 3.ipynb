{
 "cells": [
  {
   "cell_type": "code",
   "execution_count": 28,
   "id": "a85f2166-5f16-42d3-a01a-797f578e80e4",
   "metadata": {},
   "outputs": [
    {
     "name": "stdin",
     "output_type": "stream",
     "text": [
      "value= 10\n"
     ]
    }
   ],
   "source": [
    "i=int(input(\"value=\"))\n",
    "          "
   ]
  },
  {
   "cell_type": "code",
   "execution_count": 29,
   "id": "3e3b95b5-7239-45fb-9439-ea4204f82d32",
   "metadata": {},
   "outputs": [
    {
     "name": "stdout",
     "output_type": "stream",
     "text": [
      "Correct\n"
     ]
    }
   ],
   "source": [
    "if(\"value==\",10):\n",
    "   print(\"Correct\")"
   ]
  },
  {
   "cell_type": "code",
   "execution_count": 5,
   "id": "40e8c948-0b2e-4623-bf15-25afd6152e06",
   "metadata": {},
   "outputs": [],
   "source": [
    "password=(\"HOPE@\",123)"
   ]
  },
  {
   "cell_type": "code",
   "execution_count": 10,
   "id": "e3ef8c52-c71d-4e0d-a3b4-d0cb0b7c03fc",
   "metadata": {},
   "outputs": [
    {
     "name": "stdin",
     "output_type": "stream",
     "text": [
      "Enter the password : HOPE@123\n"
     ]
    }
   ],
   "source": [
    "password=input(\"Enter the password :\")\n",
    "if(password==(\"HOPE@\",123)):\n",
    "    print(\"Your password is correct\")\n",
    "    "
   ]
  },
  {
   "cell_type": "code",
   "execution_count": 11,
   "id": "dc20fbdd-2915-4919-a32e-7f52a960d1cf",
   "metadata": {},
   "outputs": [
    {
     "name": "stdout",
     "output_type": "stream",
     "text": [
      "Your password is correct\n"
     ]
    }
   ],
   "source": [
    "if(password==\"(HOPE@\",123):\n",
    "    print(\"Your password is correct\")\n",
    "else:\n",
    "    print(\"\")\n"
   ]
  },
  {
   "cell_type": "code",
   "execution_count": 17,
   "id": "f32bdf31-814d-4dda-a935-38e8e0f18db1",
   "metadata": {},
   "outputs": [
    {
     "name": "stdin",
     "output_type": "stream",
     "text": [
      "Enter your age: 20\n"
     ]
    }
   ],
   "source": [
    "#category of people by their age like children,adult,citizen,senior citizen..\n",
    "age=int(input(\"Enter your age:\"))\n",
    "\n"
   ]
  },
  {
   "cell_type": "code",
   "execution_count": 18,
   "id": "faf27c86-9555-4b79-a776-63ef5134d2a0",
   "metadata": {},
   "outputs": [
    {
     "name": "stdout",
     "output_type": "stream",
     "text": [
      "Adult\n"
     ]
    }
   ],
   "source": [
    "if (age < 18):\n",
    "    print(\"children\")\n",
    "elif(age < 35):\n",
    "    print(\"Adult\")\n",
    "elif(age < 59):\n",
    "    print(\"Citizen\")\n",
    "else:\n",
    "    print(\"senior citizen\")"
   ]
  },
  {
   "cell_type": "code",
   "execution_count": 20,
   "id": "c47da0a3-e33e-4bec-a09b-12bfd43254aa",
   "metadata": {},
   "outputs": [
    {
     "name": "stdin",
     "output_type": "stream",
     "text": [
      "Enter any number 1\n"
     ]
    }
   ],
   "source": [
    "#given number is positive or negative\n",
    "num=int(input(\"Enter any number\"))"
   ]
  },
  {
   "cell_type": "code",
   "execution_count": 21,
   "id": "580dcdd2-f6c0-4ff2-b0a8-d55c110ceb36",
   "metadata": {},
   "outputs": [
    {
     "name": "stdout",
     "output_type": "stream",
     "text": [
      "num is positive\n"
     ]
    }
   ],
   "source": [
    "if(num>0):\n",
    "    print(\"num is positive\")\n",
    "elif(num<0):\n",
    "    print(\"num is negative\")\n",
    "else:\n",
    "    print(\"num is Zero\")"
   ]
  },
  {
   "cell_type": "code",
   "execution_count": 22,
   "id": "37ac1d01-64f7-4fe4-afa2-0ab78c24ef16",
   "metadata": {},
   "outputs": [
    {
     "name": "stdin",
     "output_type": "stream",
     "text": [
      "Enter a number to check 22\n"
     ]
    }
   ],
   "source": [
    "num=int(input(\"Enter a number to check\"))"
   ]
  },
  {
   "cell_type": "code",
   "execution_count": 24,
   "id": "1e8328e0-7752-4806-bc56-b0245753b3b0",
   "metadata": {},
   "outputs": [
    {
     "name": "stdout",
     "output_type": "stream",
     "text": [
      "Number not divisible by 5\n"
     ]
    }
   ],
   "source": [
    "if (num%5==0):\n",
    "    print(\"Number is divisible by 5\")\n",
    "else:\n",
    "    print(\"Number not divisible by 5\")"
   ]
  },
  {
   "cell_type": "code",
   "execution_count": null,
   "id": "3fdc252a-4efe-4bac-9104-66a9ef266293",
   "metadata": {},
   "outputs": [],
   "source": []
  }
 ],
 "metadata": {
  "kernelspec": {
   "display_name": "Python 3 (ipykernel)",
   "language": "python",
   "name": "python3"
  },
  "language_info": {
   "codemirror_mode": {
    "name": "ipython",
    "version": 3
   },
   "file_extension": ".py",
   "mimetype": "text/x-python",
   "name": "python",
   "nbconvert_exporter": "python",
   "pygments_lexer": "ipython3",
   "version": "3.12.7"
  }
 },
 "nbformat": 4,
 "nbformat_minor": 5
}
