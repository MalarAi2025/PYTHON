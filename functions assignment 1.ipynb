{
 "cells": [
  {
   "cell_type": "code",
   "execution_count": 1,
   "id": "997b6288-d19c-45e4-b07c-c1910dd907aa",
   "metadata": {},
   "outputs": [],
   "source": [
    "\n",
    "def Eligible():\n",
    "    gender=input(\"Enter the gender\")\n",
    "    age=int(input(\"Enter the age\"))\n",
    "    if(gender=='female' and age<18):\n",
    "        print(\"Not Eligible\")\n",
    "        msg='Not Eligible'\n",
    "    elif(gender=='male' and age<21):\n",
    "        print(\"Not Eligible\")\n",
    "        msg=\"Not Eligible\"\n",
    "    else:\n",
    "        print(\"Eligible\")\n",
    "        msg=\"eligible\"\n",
    "    return msg\n",
    "    \n",
    "       "
   ]
  },
  {
   "cell_type": "code",
   "execution_count": 2,
   "id": "88efc9a2-c4bb-4753-bb47-12fb1bae7ced",
   "metadata": {},
   "outputs": [
    {
     "name": "stdin",
     "output_type": "stream",
     "text": [
      "Enter the gender male\n",
      "Enter the age 24\n"
     ]
    },
    {
     "name": "stdout",
     "output_type": "stream",
     "text": [
      "Eligible\n"
     ]
    }
   ],
   "source": [
    "msg=Eligible()"
   ]
  },
  {
   "cell_type": "code",
   "execution_count": 4,
   "id": "27f38c0a-c6e5-44d0-a11a-5e9a9a021ab1",
   "metadata": {},
   "outputs": [
    {
     "data": {
      "text/plain": [
       "'eligible'"
      ]
     },
     "execution_count": 4,
     "metadata": {},
     "output_type": "execute_result"
    }
   ],
   "source": [
    "msg"
   ]
  },
  {
   "cell_type": "code",
   "execution_count": 1,
   "id": "5a517a2f-977f-441c-b51c-22469af22ff6",
   "metadata": {},
   "outputs": [],
   "source": [
    "\n",
    "#print area and perimetr of triangle\n",
    "def AreaOfTriangle():\n",
    "    Height=int(input(\"Height=\"))\n",
    "    Breadth=int(input(\"Breadth=\"))\n",
    "    Area=((Height*Breadth)/2)\n",
    "    print(Area)\n",
    "    AreaOfTriangle=(input(\"Area of Triangle=\"),Area)\n",
    "    return Area\n"
   ]
  },
  {
   "cell_type": "code",
   "execution_count": 18,
   "id": "3356816c-96e6-46ba-b6cd-48f2da5c37d1",
   "metadata": {},
   "outputs": [
    {
     "name": "stdin",
     "output_type": "stream",
     "text": [
      "Height= 32\n",
      "Breadth= 34\n"
     ]
    },
    {
     "name": "stdout",
     "output_type": "stream",
     "text": [
      "5194.0\n"
     ]
    },
    {
     "name": "stdin",
     "output_type": "stream",
     "text": [
      "Area of Triangle= 5194\n"
     ]
    }
   ],
   "source": [
    "AreaOfTriangle()"
   ]
  },
  {
   "cell_type": "code",
   "execution_count": 8,
   "id": "11ec08ae-88d4-4c00-9b49-b58e73ba9c6e",
   "metadata": {},
   "outputs": [],
   "source": [
    "## Perimeter of the triangle\n",
    "def Peri():\n",
    "    Height1=int(input(\"Height1=\"))\n",
    "    Height2=int(input(\"Height2=\"))\n",
    "    Breadth1=int(input(\"Breadth1=\"))\n",
    "    Perimeter=(Height1+Height2+Breadth1)\n",
    "    print(Perimeter)\n",
    "    Peri=(input(\"Perimeter of the Triangle=\"),Perimeter)\n",
    "    return Peri"
   ]
  },
  {
   "cell_type": "code",
   "execution_count": 3,
   "id": "c19e40d2-1833-436b-8a29-b43c28d4a06f",
   "metadata": {},
   "outputs": [
    {
     "name": "stdin",
     "output_type": "stream",
     "text": [
      "Height1= 2\n",
      "Height2= 4\n",
      "Breadth1= 4\n"
     ]
    },
    {
     "name": "stdout",
     "output_type": "stream",
     "text": [
      "10\n",
      "Perimeter of the Triangle = 10\n"
     ]
    }
   ],
   "source": [
    "Peri()"
   ]
  },
  {
   "cell_type": "code",
   "execution_count": 22,
   "id": "13fc3fbe-49e5-4541-a405-9f1867dce2ef",
   "metadata": {},
   "outputs": [],
   "source": [
    "#percentage of marks\n",
    "def Percentage():\n",
    "    subject1=int(input(\"Subject1=\"))\n",
    "    subject2=int(input(\"Subject2=\"))\n",
    "    subject3=int(input(\"Subject3=\"))\n",
    "    subject4=int(input(\"Subject4=\"))\n",
    "    subject5=int(input(\"Subject5=\"))\n",
    "    Total=(subject1+subject2+subject3+subject4+subject5)\n",
    "    Percentage=((Total/500)*100)\n",
    "    print(\"Percentage of total marks =\",Percentage)\n",
    "    \n",
    "             "
   ]
  },
  {
   "cell_type": "code",
   "execution_count": 23,
   "id": "f2630d5d-8d1d-4c06-b4dd-3e50a419e2d6",
   "metadata": {},
   "outputs": [
    {
     "name": "stdin",
     "output_type": "stream",
     "text": [
      "Subject1= 98\n",
      "Subject2= 98\n",
      "Subject3= 96\n",
      "Subject4= 99\n",
      "Subject5= 95\n"
     ]
    },
    {
     "name": "stdout",
     "output_type": "stream",
     "text": [
      "Percentage of total marks = 97.2\n"
     ]
    }
   ],
   "source": [
    "Percentage()"
   ]
  },
  {
   "cell_type": "code",
   "execution_count": null,
   "id": "bd3f595f-f9ff-4d2c-a2d6-d8eeda49f4f0",
   "metadata": {},
   "outputs": [],
   "source": []
  }
 ],
 "metadata": {
  "kernelspec": {
   "display_name": "Python 3 (ipykernel)",
   "language": "python",
   "name": "python3"
  },
  "language_info": {
   "codemirror_mode": {
    "name": "ipython",
    "version": 3
   },
   "file_extension": ".py",
   "mimetype": "text/x-python",
   "name": "python",
   "nbconvert_exporter": "python",
   "pygments_lexer": "ipython3",
   "version": "3.12.7"
  }
 },
 "nbformat": 4,
 "nbformat_minor": 5
}
